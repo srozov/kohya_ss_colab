{
  "cells": [
    {
      "cell_type": "markdown",
      "metadata": {
        "id": "view-in-github",
        "colab_type": "text"
      },
      "source": [
        "<a href=\"https://colab.research.google.com/github/AlexSgt/kohya_ss_colab/blob/master/Colab_GUI.ipynb\" target=\"_parent\"><img src=\"https://colab.research.google.com/assets/colab-badge.svg\" alt=\"Open In Colab\"/></a>"
      ]
    },
    {
      "cell_type": "code",
      "execution_count": null,
      "outputs": [],
      "source": [
        "#@markdown # Install/Update Kohya_ss WebUI\n",
        "from IPython.display import clear_output\n",
        "from IPython.utils import capture\n",
        "from subprocess import getoutput\n",
        "import ipywidgets as widgets\n",
        "import sys\n",
        "import fileinput\n",
        "import os\n",
        "import time\n",
        "\n",
        "#@markdown Save to GDrive\n",
        "gdrive = False #@param {type: \"boolean\"}\n",
        "\n",
        "if gdrive:\n",
        "  from google.colab import drive\n",
        "  drive.mount('/content/gdrive')\n",
        "\n",
        "if not gdrive:\n",
        "    print('\u001b[1;31mGdrive not connected, using colab storage ...')\n",
        "    time.sleep(4)\n",
        "    !mkdir -p /content/gdrive/MyDrive/\n",
        "with capture.capture_output() as cap:\n",
        "    def inf(msg, style, wdth):\n",
        "        inf = widgets.Button(description=msg, disabled=True, button_style=style, layout=widgets.Layout(min_width=wdth))\n",
        "        display(inf)\n",
        "\n",
        "    %mkdir -p /content/gdrive/MyDrive/sd\n",
        "    %cd /content/gdrive/MyDrive/sd\n",
        "    !git clone https://github.com/AlexSgt/kohya_ss_colab kohya_ss\n",
        "    !mkdir -p /content/gdrive/MyDrive/sd/kohya_ss/cache/huggingface\n",
        "    !ln -s /content/gdrive/MyDrive/sd/kohya_ss/cache/huggingface /root/.cache/\n",
        "\n",
        "with capture.capture_output() as cap:\n",
        "    %cd /content/gdrive/MyDrive/sd/kohya_ss/\n",
        "    !git reset --hard\n",
        "    time.sleep(1)\n",
        "print('\u001b[1;32m')\n",
        "!git pull\n",
        "clear_output()\n",
        "inf('\\u2714 Done','success', '50px')"
      ],
      "metadata": {
        "id": "xF0KWC99LHl0"
      }
    },
    {
      "cell_type": "code",
      "execution_count": null,
      "outputs": [],
      "source": [
        "#@markdown # Requirements\n",
        "\n",
        "print('\u001b[1;32mInstalling requirements...')\n",
        "\n",
        "with capture.capture_output() as cap:\n",
        "    %cd /content/gdrive/MyDrive/sd/kohya_ss/\n",
        "    # !pip install torch==1.12.1+cu116 torchvision==0.13.1+cu116 --extra-index-url https://download.pytorch.org/whl/cu116\n",
        "    !pip install -r requirements.txt\n",
        "\n",
        "clear_output()\n",
        "inf('\\u2714 Done','success', '50px')"
      ],
      "metadata": {
        "id": "JwvimXEoLHl1"
      }
    },
    {
      "cell_type": "code",
      "source": [
        "#@markdown # Presetting of trigger word and steps\n",
        "import os\n",
        "from google.colab import files\n",
        "import shutil\n",
        "\n",
        "folders = ['input', 'output', 'log', 'config']\n",
        "base_path = '/content/gdrive/MyDrive/sd/kohya_ss/Lora/'\n",
        "trigger_word = \"sizovadina\" #@param {type:\"string\"}\n",
        "\n",
        "for folder in folders:\n",
        "  os.makedirs(base_path + folder, exist_ok=True)\n",
        "\n",
        "input_folder_path = base_path + folders[0] \n",
        "print(f\"Uploading instance images to {input_folder_path}\")\n",
        "uploaded = files.upload()\n",
        "\n",
        "num_files = len([k for k in uploaded.keys() if '.txt' not in k])\n",
        "CONST = 1500\n",
        "\n",
        "#If your value is less than %step_limit%, then %step_limit% will be the default\n",
        "step_limit = 100 #@param {type:\"integer\"}\n",
        "\n",
        "if int(CONST / num_files) < step_limit:\n",
        "  num_f = step_limit\n",
        "else:\n",
        "  num_f = int(CONST / num_files)\n",
        "\n",
        "num_input = input_folder_path + f'/{num_f}_{trigger_word}'\n",
        "os.makedirs(num_input, exist_ok=True)\n",
        "\n",
        "for filename in uploaded.keys():\n",
        "    dst_path = os.path.join(num_input, filename)\n",
        "    shutil.move(filename, dst_path)"
      ],
      "metadata": {
        "id": "W9p0s5j-AjTT"
      },
      "execution_count": null,
      "outputs": []
    },
    {
      "cell_type": "code",
      "execution_count": null,
      "outputs": [],
      "source": [
        "#@markdown # Start Kohya ss WebUI\n",
        "\n",
        "User = \"\" #@param {type:\"string\"}\n",
        "Password = \"\" #@param {type:\"string\"}\n",
        "#@markdown - Add credentials to your Gradio interface (optional).\n",
        "\n",
        "if User and Password:\n",
        "    !python /content/gdrive/MyDrive/sd/kohya_ss/kohya_gui.py --username $User --password $Password\n",
        "else:\n",
        "    !python /content/gdrive/MyDrive/sd/kohya_ss/kohya_gui.py"
      ],
      "metadata": {
        "id": "2BCEP_xXLHl2"
      }
    }
  ],
  "metadata": {
    "kernelspec": {
      "display_name": "Python 3",
      "language": "python",
      "name": "python3"
    },
    "language_info": {
      "codemirror_mode": {
        "name": "ipython",
        "version": 2
      },
      "file_extension": ".py",
      "mimetype": "text/x-python",
      "name": "python",
      "nbconvert_exporter": "python",
      "pygments_lexer": "ipython2",
      "version": "2.7.6"
    },
    "colab": {
      "provenance": [],
      "include_colab_link": true
    },
    "accelerator": "GPU",
    "gpuClass": "standard"
  },
  "nbformat": 4,
  "nbformat_minor": 0
}