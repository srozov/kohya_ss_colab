{
  "cells": [
    {
      "cell_type": "markdown",
      "metadata": {
        "id": "view-in-github",
        "colab_type": "text"
      },
      "source": [
        "<a href=\"https://colab.research.google.com/github/AlexSgt/kohya_ss_colab/blob/master/Colab_GUI.ipynb\" target=\"_parent\"><img src=\"https://colab.research.google.com/assets/colab-badge.svg\" alt=\"Open In Colab\"/></a>"
      ]
    },
    {
      "cell_type": "markdown",
      "metadata": {
        "id": "kyjbl6j20Wun"
      },
      "source": [
        "# **Kohya_ss GColab version by [AlexS](https://t.me/alaimps)**\n",
        "![youtube.png](data:image/png;base64,iVBORw0KGgoAAAANSUhEUgAAABAAAAAQCAMAAAAoLQ9TAAAAJ1BMVEVHcEz/AAD/AAD/AAD/AAD/AAD/AAD/AAD/AAD/////mJj/wcH/jY3aUCqcAAAACHRSTlMA8czbELSvDrGIfzkAAABCSURBVBiVY2AgA7CwMTMycgABIyMzGztQgIkDCTABBThQAEyAixtNgIeTkwu/AIYWZEMxrGVhZWaE8BiZWVnI8RoAJWEEDt2WmW4AAAAASUVORK5CYII=) **[YouTube](https://www.youtube.com/@Alex_Sizov)** | \n",
        "![boosty.png](data:image/png;base64,iVBORw0KGgoAAAANSUhEUgAAABAAAAAQCAMAAAAoLQ9TAAAAS1BMVEXvdinvZAfxZCrwdyzwcinxXyv////xXizvdynxXizxayrwVwPvbxr72MvxWyL0iWH+7+jwWxX5ybbwZhz4vqr2qIr/+PT0mG3zg1ZRrpYlAAAACnRSTlPz////////8zk5Y0/N5QAAAJxJREFUGJU1jQEShSAIREHRSkkztbr/Sf9S89cZdB8r0Epe7xjjqR6ilciLngC3esEhEhE+AFhUTAY8/M46H/6AToDZvdEX8A7geaCOLpQS43UwX7guTpS6LR1cj3c0QLOltfeMyJUBsnWemm3S2RK5HE3DPkbn3B8kK7UYaG/WSm2WCKFgCPwoJUC0hJCfOWtuZsNCG0gpXxd++wFHSQh7rmC2AQAAAABJRU5ErkJggg==) **[Boosty](https://boosty.to/alexsizov)** | \n",
        "![telegram.png](data:image/png;base64,iVBORw0KGgoAAAANSUhEUgAAABAAAAAQCAMAAAAoLQ9TAAAAY1BMVEX///80quUyp+IqndUtodosoNgrn9c2q+cwpd8qntY1qufZ7/qY0/BkvOjy+v0vpN08qeCTzehds92c1vVpwu9Es+yn2/V0xe5Ms+Z/yO3L6fhYt+e/4/ZxwOnm9PuKy+xEqtu3hIK0AAAAmklEQVQYlT2PiRLDIAhEVyupjdqQy1yNzf9/ZYkmfQzjLuAMAILrh3EceoeL+CyMsfhJdF1yyn1VK3WnzDilr5g9K3bwurCswKa1R9BW2zm+8QFEBbC1uzTXzSFZaxnchIT3Vz5jtY0UgjHm4NPDiwxoTcZLYcmvY6qIqOocDiJOstirKnFI5uX3x5/9Oo6KpXif69qOqGvTqX9x7ghTsVpjBwAAAABJRU5ErkJggg==) **[Telegram](https://t.me/aiartistry)** | \n",
        "![GitHub.png](data:image/png;base64,iVBORw0KGgoAAAANSUhEUgAAABAAAAAQCAYAAAAf8/9hAAAB2UlEQVR4AYzTM9wdQRQF8HMmNsv42S+23YdtbPZdbDvpu9io0sTJZ7uKzbdzM/Pbifl/WF0s7hI/6RlJpRQxh8BYAXrAIFAj4BUBjlSV5BXgO4QTDAabSeMW20nOB6Dwe1qAA82YW1lUVPQRBuGS0aTFeYCj8T9ErjVV3mRbRMEwnXfYZBG5T3IBgDw/Dk8FeOKvSxGAhSJyE+SYj9J429drDsbSnvmJ+R2EhamNumcy7eH07Nmn3ciRIxvDCERTO/3YVC4QyyQYiKZ3kFjuuhyrLMmfjb8wybsBLIEhwHYFyHg4GtyIf/kkX2NochXIrq77m+qSvDL8Q0VFfoNAHsEQsLuiSCP4mvXp06cJ/k1R0AqWiFJC1sEg2fj5u0/j8A+BSGYkyJbw1SoA1+BQuDuUSMTwB71i2RCU7IND8prSnj4IQEOwDpQH2lN5gVjqVCieGQDHPLq+wWj6BMUrJBCFT2vBQboAW3WOiAxRSs2FIICcmllRcf8RjHC4T2fdKGfXv7e3ojhviYLB3LuVJK6T6giFp0S41iQ/hlNWdteu6+9HGZ/ersZX7n0IxNJ73VSKm7zvB0jbYzbGxuJP7Gibe/BZDZCMhgAgMUU1HT109QAAAAD//wMAWIG6y3eBiWMAAAAASUVORK5CYII=) **[GitHub](https://github.com/AlexSgt/kohya_ss_colab)** "
      ]
    },
    {
      "cell_type": "code",
      "execution_count": null,
      "metadata": {
        "cellView": "form",
        "id": "xF0KWC99LHl0"
      },
      "outputs": [],
      "source": [
        "#@markdown # Install/Update Kohya_ss WebUI\n",
        "from IPython.display import clear_output\n",
        "from IPython.utils import capture\n",
        "from subprocess import getoutput\n",
        "import ipywidgets as widgets\n",
        "import sys\n",
        "import fileinput\n",
        "import os\n",
        "import time\n",
        "\n",
        "#@markdown Save to GDrive\n",
        "gdrive = False #@param {type: \"boolean\"}\n",
        "\n",
        "if gdrive:\n",
        "  from google.colab import drive\n",
        "  drive.mount('/content/gdrive')\n",
        "\n",
        "if not gdrive:\n",
        "    print('\u001b[1;31mGdrive not connected, using colab storage ...')\n",
        "    time.sleep(4)\n",
        "    !mkdir -p /content/gdrive/MyDrive/\n",
        "with capture.capture_output() as cap:\n",
        "    def inf(msg, style, wdth):\n",
        "        inf = widgets.Button(description=msg, disabled=True, button_style=style, layout=widgets.Layout(min_width=wdth))\n",
        "        display(inf)\n",
        "\n",
        "    %mkdir -p /content/gdrive/MyDrive/sd\n",
        "    %cd /content/gdrive/MyDrive/sd\n",
        "    !git clone https://github.com/AlexSgt/kohya_ss_colab kohya_ss\n",
        "    !mkdir -p /content/gdrive/MyDrive/sd/kohya_ss/cache/huggingface\n",
        "    !ln -s /content/gdrive/MyDrive/sd/kohya_ss/cache/huggingface /root/.cache/\n",
        "\n",
        "with capture.capture_output() as cap:\n",
        "    %cd /content/gdrive/MyDrive/sd/kohya_ss/\n",
        "    !git reset --hard\n",
        "    time.sleep(1)\n",
        "print('\u001b[1;32m')\n",
        "!git pull\n",
        "clear_output()\n",
        "inf('\\u2714 Done','success', '50px')"
      ]
    },
    {
      "cell_type": "code",
      "execution_count": null,
      "metadata": {
        "cellView": "form",
        "id": "JwvimXEoLHl1"
      },
      "outputs": [],
      "source": [
        "#@markdown # Requirements\n",
        "\n",
        "print('\u001b[1;32mInstalling requirements...')\n",
        "\n",
        "with capture.capture_output() as cap:\n",
        "    %cd /content/gdrive/MyDrive/sd/kohya_ss/\n",
        "    # !pip install torch==1.12.1+cu116 torchvision==0.13.1+cu116 --extra-index-url https://download.pytorch.org/whl/cu116\n",
        "    !pip install -r requirements.txt\n",
        "\n",
        "clear_output()\n",
        "inf('\\u2714 Done','success', '50px')"
      ]
    },
    {
      "cell_type": "code",
      "execution_count": null,
      "metadata": {
        "cellView": "form",
        "id": "W9p0s5j-AjTT"
      },
      "outputs": [],
      "source": [
        "#@markdown # Presetting of trigger word and steps\n",
        "import os\n",
        "from google.colab import files\n",
        "import shutil\n",
        "\n",
        "folders = ['input', 'output', 'log', 'config']\n",
        "base_path = '/content/gdrive/MyDrive/sd/kohya_ss/Lora/'\n",
        "trigger_word = \"\" #@param {type:\"string\"}\n",
        "\n",
        "for folder in folders:\n",
        "  os.makedirs(base_path + folder, exist_ok=True)\n",
        "\n",
        "input_folder_path = base_path + folders[0] \n",
        "print(f\"Uploading instance images to {input_folder_path}\")\n",
        "uploaded = files.upload()\n",
        "\n",
        "num_files = len([k for k in uploaded.keys() if '.txt' not in k])\n",
        "CONST = 1500\n",
        "\n",
        "#If your value is less than %step_limit%, then %step_limit% will be the default\n",
        "step_limit = 100 #@param {type:\"integer\"}\n",
        "\n",
        "if int(CONST / num_files) < step_limit:\n",
        "  num_f = step_limit\n",
        "else:\n",
        "  num_f = int(CONST / num_files)\n",
        "\n",
        "num_input = input_folder_path + f'/{num_f}_{trigger_word}'\n",
        "os.makedirs(num_input, exist_ok=True)\n",
        "\n",
        "for filename in uploaded.keys():\n",
        "    dst_path = os.path.join(num_input, filename)\n",
        "    shutil.move(filename, dst_path)"
      ]
    },
    {
      "cell_type": "code",
      "execution_count": null,
      "metadata": {
        "cellView": "form",
        "id": "2BCEP_xXLHl2"
      },
      "outputs": [],
      "source": [
        "#@markdown # Start Kohya ss WebUI\n",
        "import sys\n",
        "import fileinput\n",
        "from pyngrok import ngrok, conf\n",
        "\n",
        "#@markdown - Add credentials to your Gradio interface (optional).\n",
        "User = \"\" #@param {type:\"string\"}\n",
        "Password = \"\" #@param {type:\"string\"}\n",
        "\n",
        "#@markdown - Input your [ngrok](https://ngrok.com/) [token](https://dashboard.ngrok.com/get-started/your-authtoken) if you want to use ngrok server\n",
        "Ngrok_token = \"\" #@param {type:\"string\"}\n",
        "\n",
        "\n",
        "if Ngrok_token!=\"\":\n",
        "  ngrok.kill()\n",
        "  srv=ngrok.connect(7860, pyngrok_config=conf.PyngrokConfig(auth_token=Ngrok_token) , bind_tls=True).public_url\n",
        "  \n",
        "  for line in fileinput.input('/content/gdrive/MyDrive/sd/kohya_ss/kohya_gui.py', inplace=True):\n",
        "    if line.strip().startswith(\"print('Load CSS...')\"):\n",
        "      line = f\"            print('Load CSS...')\\n            print('Running on ngrok URL:  {srv}')\\n\"\n",
        "    sys.stdout.write(line)\n",
        "else:\n",
        "  for line in fileinput.input('/content/gdrive/MyDrive/sd/kohya_ss/kohya_gui.py', inplace=True):\n",
        "    if line.strip().startswith(\"print('Running on ngrok URL:\"):\n",
        "      line = f\"\"\n",
        "    sys.stdout.write(line)\n",
        "\n",
        "if User and Password:\n",
        "    !python /content/gdrive/MyDrive/sd/kohya_ss/kohya_gui.py --username $User --password $Password\n",
        "else:\n",
        "    !python /content/gdrive/MyDrive/sd/kohya_ss/kohya_gui.py"
      ]
    }
  ],
  "metadata": {
    "accelerator": "GPU",
    "colab": {
      "provenance": [],
      "include_colab_link": true
    },
    "gpuClass": "standard",
    "kernelspec": {
      "display_name": "Python 3",
      "language": "python",
      "name": "python3"
    },
    "language_info": {
      "codemirror_mode": {
        "name": "ipython",
        "version": 2
      },
      "file_extension": ".py",
      "mimetype": "text/x-python",
      "name": "python",
      "nbconvert_exporter": "python",
      "pygments_lexer": "ipython2",
      "version": "2.7.6"
    }
  },
  "nbformat": 4,
  "nbformat_minor": 0
}